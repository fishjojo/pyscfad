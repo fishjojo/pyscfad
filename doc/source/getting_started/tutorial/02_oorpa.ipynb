{
 "cells": [
  {
   "cell_type": "markdown",
   "id": "f8b0b80e-8b1a-42f2-ab7f-c147391961ac",
   "metadata": {},
   "source": [
    "# Orbital optimization\n",
    "\n",
    "[![Open in Colab](https://colab.research.google.com/assets/colab-badge.svg)](https://colab.research.google.com/github/fishjojo/pyscfad/blob/doc/doc/source/getting_started/tutorial/02_oorpa.ipynb)\n",
    "\n",
    "Another example of using pyscfad is to apply orbital optimization for complex quantum chemistry methods.\n",
    "Here, we present an implementation of the orbital optimized random phase approximation (OO-RPA) method."
   ]
  },
  {
   "cell_type": "markdown",
   "id": "8ca118fd-75c4-4ce6-95b5-6081f9da1f3c",
   "metadata": {},
   "source": [
    "## OO-RPA\n",
    "\n",
    "First, a reference Kohn-Sham DFT calculation is performed."
   ]
  },
  {
   "cell_type": "code",
   "execution_count": 1,
   "id": "a812a795-dae6-4ed1-bc94-09b87b7bcffe",
   "metadata": {},
   "outputs": [
    {
     "name": "stderr",
     "output_type": "stream",
     "text": [
      "An NVIDIA GPU may be present on this machine, but a CUDA-enabled jaxlib is not installed. Falling back to cpu.\n"
     ]
    },
    {
     "name": "stdout",
     "output_type": "stream",
     "text": [
      "PBE energy (in Eh): -5.769065306827853\n"
     ]
    }
   ],
   "source": [
    "from pyscfad import gto, dft\n",
    "\n",
    "mol = gto.Mole()\n",
    "mol.atom = [['He', (0., 0., 0.)],\n",
    "            ['He', (0., 0., 2.6)]]\n",
    "mol.basis = 'def2-svp'\n",
    "mol.build()\n",
    "\n",
    "mf = dft.RKS(mol, xc='PBE')\n",
    "e_pbe = mf.kernel()\n",
    "print(f'PBE energy (in Eh): {e_pbe}')"
   ]
  },
  {
   "cell_type": "markdown",
   "id": "8d630948-1957-4281-b30e-40092a7bebab",
   "metadata": {},
   "source": [
    "Then, one needs to define the energy function for the RPA method, with the orbital rotation matrix as the variable."
   ]
  },
  {
   "cell_type": "code",
   "execution_count": 2,
   "id": "88632640-068c-40fc-91ec-2c87c5057439",
   "metadata": {},
   "outputs": [],
   "source": [
    "from pyscf.df.addons import make_auxbasis\n",
    "from pyscfad import df\n",
    "from pyscfad.gw import rpa\n",
    "from pyscfad.tools import rotate_mo1\n",
    "\n",
    "# initial MO coefficients\n",
    "mo0 = mf.mo_coeff\n",
    "# density fitting object\n",
    "mydf = df.DF(mol, make_auxbasis(mol, mp2fit=True))\n",
    "\n",
    "def rpa_energy(x):\n",
    "    # apply orbital rotation\n",
    "    mf.mo_coeff = rotate_mo1(mo0, x)\n",
    "    # density-fitted RPA\n",
    "    myrpa = rpa.RPA(mf)\n",
    "    myrpa.with_df = mydf\n",
    "    myrpa.kernel()\n",
    "    return myrpa.e_tot"
   ]
  },
  {
   "cell_type": "markdown",
   "id": "99d311f4-d186-4936-83fd-e9bfb71174ba",
   "metadata": {},
   "source": [
    "Here, we use the differentiable [RPA method](https://github.com/fishjojo/pyscfad/blob/main/pyscfad/gw/rpa.py) implemented in pyscfad.\n",
    "And [density fitting](https://github.com/fishjojo/pyscfad/blob/main/pyscfad/df/df.py) is enabled as well.\n",
    "The function `rotate_mo1` applies the unitary orbital rotation to the MOs.\n",
    "Note that the DFT object and the density fitting object are kept fixed when computing the energy,\n",
    "and thus can be constructed outside of the energy function. "
   ]
  },
  {
   "cell_type": "markdown",
   "id": "c606b194-bd15-480f-8c72-a4e8352ac947",
   "metadata": {},
   "source": [
    "The analytoc Jacobian and Hessian of the energy are conveniently defined using the jax built-in functions."
   ]
  },
  {
   "cell_type": "code",
   "execution_count": 3,
   "id": "d2d3216a-c40d-4ea1-b726-ad13e95c0c5a",
   "metadata": {},
   "outputs": [],
   "source": [
    "import jax\n",
    "\n",
    "# jacobian\n",
    "jac = lambda x, *args: jax.jacrev(rpa_energy)(x)\n",
    "# hessian vector product\n",
    "hessp = lambda x, p, *args: jax.vjp(jac, x)[1](p)[0]"
   ]
  },
  {
   "cell_type": "markdown",
   "id": "a0653ee8-376a-45f4-b203-1034f287c92d",
   "metadata": {},
   "source": [
    "Finally, the energy can be minimized by conventional optimizers, e.g., those provided by scipy."
   ]
  },
  {
   "cell_type": "code",
   "execution_count": 4,
   "id": "25afc14c-7a84-45f6-ba7e-f0619e5d5fa5",
   "metadata": {},
   "outputs": [
    {
     "name": "stdout",
     "output_type": "stream",
     "text": [
      "\n",
      "WARN: int3c2e symmetry turned off\n",
      "\n"
     ]
    },
    {
     "name": "stderr",
     "output_type": "stream",
     "text": [
      "<class 'pyscfad.df.df.DF'> does not have attributes  incore\n"
     ]
    },
    {
     "name": "stdout",
     "output_type": "stream",
     "text": [
      "OO-RPA/PBE energy: -5.824333537127008\n"
     ]
    }
   ],
   "source": [
    "import numpy\n",
    "from scipy.optimize import minimize\n",
    "\n",
    "x0 = numpy.zeros([mol.nao*(mol.nao-1)//2,])\n",
    "res = minimize(rpa_energy, x0, jac=jac, hessp=hessp,\n",
    "               method='trust-krylov', options={'gtol': 1e-6})\n",
    "print(f'OO-RPA/PBE energy: {rpa_energy(res.x)}')"
   ]
  }
 ],
 "metadata": {
  "kernelspec": {
   "display_name": "Python 3 (ipykernel)",
   "language": "python",
   "name": "python3"
  },
  "language_info": {
   "codemirror_mode": {
    "name": "ipython",
    "version": 3
   },
   "file_extension": ".py",
   "mimetype": "text/x-python",
   "name": "python",
   "nbconvert_exporter": "python",
   "pygments_lexer": "ipython3",
   "version": "3.11.3"
  }
 },
 "nbformat": 4,
 "nbformat_minor": 5
}

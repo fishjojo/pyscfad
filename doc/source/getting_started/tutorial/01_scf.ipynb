{
 "cells": [
  {
   "cell_type": "markdown",
   "id": "aaaf52fa",
   "metadata": {},
   "source": [
    "# Simple mean-field calculations\n",
    "\n",
    "[![Open in Colab](https://colab.research.google.com/assets/colab-badge.svg)](https://colab.research.google.com/github/fishjojo/pyscfad/blob/doc/doc/source/getting_started/tutorial/01_scf.ipynb)"
   ]
  },
  {
   "cell_type": "markdown",
   "id": "8a0ce15f",
   "metadata": {},
   "source": [
    "## Energy derivatives w.r.t. molecular parameters\n",
    "\n",
    "The most straightforward application of pyscfad is to compute energy derivatives w.r.t. the parameters of the `Mole` object.\n",
    "Currently, three parameters are supported, including nuclear coordinates `Mole.coords`, and exponentes `Mole.exp` and contraction coefficients `Mole.ctr_coeff` of the basis functions. A typical energy derivative calculation involves the following steps."
   ]
  },
  {
   "cell_type": "markdown",
   "id": "581858b0",
   "metadata": {},
   "source": [
    "### 1. Define the Mole object\n",
    "\n",
    "The `Mole` object constructor follows the same syntax as that of pyscf. In addtion, one can control whether to *trace* (compute the derivatives w.r.t.) the above mentioned parameters. The default is to trace all of them."
   ]
  },
  {
   "cell_type": "code",
   "execution_count": 1,
   "id": "6997f983",
   "metadata": {},
   "outputs": [],
   "source": [
    "from pyscfad import gto\n",
    "mol = gto.Mole()\n",
    "mol.atom = \"H 0 0 0; H 0 0 0.74\"\n",
    "mol.basis = \"6-31G*\"\n",
    "mol.verbose = 0\n",
    "mol.build(trace_coords=True, trace_exp=True, trace_ctr_coeff=True)"
   ]
  },
  {
   "cell_type": "markdown",
   "id": "31890cce",
   "metadata": {},
   "source": [
    "### 2. Define the energy function\n",
    "\n",
    "The energy function takes the `Mole` object as the input, and returns the energy, which is a scalar. In this example, we compute the Hartree-Fock energy."
   ]
  },
  {
   "cell_type": "code",
   "execution_count": 2,
   "id": "346fbee3",
   "metadata": {},
   "outputs": [],
   "source": [
    "from pyscfad import scf\n",
    "def hf_energy(mol):\n",
    "    mf = scf.RHF(mol)\n",
    "    ehf = mf.kernel()\n",
    "    return ehf"
   ]
  },
  {
   "cell_type": "markdown",
   "id": "6baf7a1c",
   "metadata": {},
   "source": [
    "### 3. Compute the gradient\n",
    "\n",
    "We use jax as the backend to trace the computational graph and perform the gradient calculation. See e.g., [`jax.value_and_grad`](https://jax.readthedocs.io/en/latest/_autosummary/jax.value_and_grad.html)."
   ]
  },
  {
   "cell_type": "code",
   "execution_count": 3,
   "id": "4b5dfdbc",
   "metadata": {},
   "outputs": [
    {
     "name": "stdout",
     "output_type": "stream",
     "text": [
      "RHF energy (in Eh): -1.1267553171969316\n"
     ]
    }
   ],
   "source": [
    "import jax\n",
    "ehf, grad = jax.value_and_grad(hf_energy)(mol)\n",
    "print(f'RHF energy (in Eh): {ehf}')"
   ]
  },
  {
   "cell_type": "markdown",
   "id": "5107ae62",
   "metadata": {},
   "source": [
    "The gradients w.r.t. each parameter are stored as attributes of `grad`, which is also a `Mole` object."
   ]
  },
  {
   "cell_type": "code",
   "execution_count": 4,
   "id": "10f2381a",
   "metadata": {},
   "outputs": [
    {
     "name": "stdout",
     "output_type": "stream",
     "text": [
      "<pyscfad.gto.mole.Mole object at 0x7f364c1b7e90>\n"
     ]
    }
   ],
   "source": [
    "print(grad)"
   ]
  },
  {
   "cell_type": "code",
   "execution_count": 5,
   "id": "73c46afb",
   "metadata": {},
   "outputs": [
    {
     "name": "stdout",
     "output_type": "stream",
     "text": [
      "Nuclear gradient:\n",
      "[[ 0.          0.         -0.00756136]\n",
      " [ 0.          0.          0.00756136]]\n"
     ]
    }
   ],
   "source": [
    "print(f'Nuclear gradient:\\n{grad.coords}')"
   ]
  },
  {
   "cell_type": "code",
   "execution_count": 6,
   "id": "a27c8196",
   "metadata": {},
   "outputs": [
    {
     "name": "stdout",
     "output_type": "stream",
     "text": [
      "Energy gradient w.r.t. basis function exponents:\n",
      "[-8.02030941e-05  1.27267947e-03  1.29202851e-02 -3.61927384e-02]\n"
     ]
    }
   ],
   "source": [
    "print(f'Energy gradient w.r.t. basis function exponents:\\n{grad.exp}')"
   ]
  },
  {
   "cell_type": "code",
   "execution_count": 7,
   "id": "0de7d2ee",
   "metadata": {},
   "outputs": [
    {
     "name": "stdout",
     "output_type": "stream",
     "text": [
      "Energy gradient w.r.t. basis function contraction coefficients:\n",
      "[ 2.36262161e-03  4.68735066e-03 -5.34074485e-03  8.42659276e-13]\n"
     ]
    }
   ],
   "source": [
    "print(f'Energy gradient w.r.t. basis function contraction coefficients:\\n{grad.ctr_coeff}')"
   ]
  },
  {
   "cell_type": "markdown",
   "id": "1bb2dee5",
   "metadata": {},
   "source": [
    "### 4. Higher order derivatives\n",
    "\n",
    "Higher order derivatives can also be computed, although with much higer memory footprint. Two functions,\n",
    "[`jax.jacfwd`](https://jax.readthedocs.io/en/latest/_autosummary/jax.jacfwd.html) and\n",
    "[`jax.jacrev`](https://jax.readthedocs.io/en/latest/_autosummary/jax.jacrev.html),\n",
    "compute the Jacobian with forward- and reverse-mode differentiation, respectively."
   ]
  },
  {
   "cell_type": "code",
   "execution_count": 8,
   "id": "973247f1",
   "metadata": {},
   "outputs": [
    {
     "name": "stdout",
     "output_type": "stream",
     "text": [
      "Energy Hessians\n",
      "∂^2E/∂R^2: (2, 3, 2, 3)\n",
      "∂^2E/∂R∂ε: (2, 3, 4)\n",
      "∂^2E/∂R∂c: (2, 3, 4)\n",
      "\n"
     ]
    }
   ],
   "source": [
    "hessian = jax.jacfwd(jax.grad(hf_energy))(mol)\n",
    "print(f'Energy Hessians\\n'\n",
    "      f'∂^2E/∂R^2: {hessian.coords.coords.shape}\\n'\n",
    "      f'∂^2E/∂R∂ε: {hessian.coords.exp.shape}\\n'\n",
    "      f'∂^2E/∂R∂c: {hessian.coords.ctr_coeff.shape}\\n')"
   ]
  },
  {
   "cell_type": "markdown",
   "id": "a8821190",
   "metadata": {},
   "source": [
    "```{note}\n",
    "Only first-order derivatives w.r.t. `Mole.exp` and `Mole.ctr_coeff` are available at the moment.\n",
    "```"
   ]
  },
  {
   "cell_type": "markdown",
   "id": "617859b5",
   "metadata": {},
   "source": [
    "Third-order derivatives w.r.t. nuclear coordinates can be computed similarly."
   ]
  },
  {
   "cell_type": "code",
   "execution_count": 9,
   "id": "1b56937d",
   "metadata": {},
   "outputs": [
    {
     "name": "stdout",
     "output_type": "stream",
     "text": [
      "∂^3E/∂R^3: (2, 3, 2, 3, 2, 3)\n"
     ]
    }
   ],
   "source": [
    "third_order_deriv = jax.jacfwd(jax.jacfwd(jax.grad(hf_energy)))(mol)\n",
    "print(f'∂^3E/∂R^3: {third_order_deriv.coords.coords.coords.shape}')"
   ]
  }
 ],
 "metadata": {
  "jupytext": {
   "formats": "ipynb,md:myst"
  },
  "kernelspec": {
   "display_name": "Python 3 (ipykernel)",
   "language": "python",
   "name": "python3"
  },
  "language_info": {
   "codemirror_mode": {
    "name": "ipython",
    "version": 3
   },
   "file_extension": ".py",
   "mimetype": "text/x-python",
   "name": "python",
   "nbconvert_exporter": "python",
   "pygments_lexer": "ipython3",
   "version": "3.11.3"
  }
 },
 "nbformat": 4,
 "nbformat_minor": 5
}

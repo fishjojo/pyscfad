{
 "cells": [
  {
   "cell_type": "markdown",
   "id": "8b9097a7-b073-44c2-95e8-80b0e1a86752",
   "metadata": {},
   "source": [
    "# Simple mean-field calculations\n",
    "\n",
    "[![Open in Colab](https://colab.research.google.com/assets/colab-badge.svg)](https://colab.research.google.com/github/fishjojo/pyscfad/blob/doc/doc/source/getting_started/tutorial/01_scf.ipynb)"
   ]
  },
  {
   "attachments": {},
   "cell_type": "markdown",
   "id": "433dd47e-d928-4a87-83cd-7f7b04e4abcf",
   "metadata": {},
   "source": [
    "## Energy derivatives w.r.t. molecular parameters\n",
    "\n",
    "The most straightforward application of pyscfad is to compute energy derivatives w.r.t. the parameters of the `Mole` object.\n",
    "Currently, three parameters are supported, including nuclear coordinates `Mole.coords`, and exponentes `Mole.exp` and contraction coefficients `Mole.ctr_coeff` of the basis functions. A typical energy derivative calculation involves the following steps."
   ]
  },
  {
   "cell_type": "markdown",
   "id": "7b3d6ccc-fbcf-40e4-a641-00e476d1351e",
   "metadata": {},
   "source": [
    "### 1. Define the Mole object\n",
    "\n",
    "The `Mole` object constructor follows the same syntax as that of pyscf. In addtion, one can control whether to *trace* (compute the derivatives w.r.t.) the above mentioned parameters. The default is to trace all of them."
   ]
  },
  {
   "cell_type": "code",
   "execution_count": 1,
   "id": "52dc51ca-d170-4832-bd19-0dacbb372300",
   "metadata": {
    "scrolled": true
   },
   "outputs": [
    {
     "name": "stderr",
     "output_type": "stream",
     "text": [
      "An NVIDIA GPU may be present on this machine, but a CUDA-enabled jaxlib is not installed. Falling back to cpu.\n"
     ]
    }
   ],
   "source": [
    "from pyscfad import gto\n",
    "mol = gto.Mole()\n",
    "mol.atom = \"H 0 0 0; H 0 0 0.74\"\n",
    "mol.basis = \"6-31G*\"\n",
    "mol.build(trace_coords=True, trace_exp=True, trace_ctr_coeff=True)"
   ]
  },
  {
   "attachments": {},
   "cell_type": "markdown",
   "id": "6a0087e2-b8ef-48f6-9a8f-984c1109862d",
   "metadata": {},
   "source": [
    "### 2. Define the energy function\n",
    "\n",
    "The energy function takes the `Mole` object as the input, and returns the energy, which is a scalar. In this example, we compute the Hartree-Fock energy."
   ]
  },
  {
   "cell_type": "code",
   "execution_count": 2,
   "id": "2e473d1f-84d8-4b8d-bd8c-d2eb8557ceff",
   "metadata": {},
   "outputs": [],
   "source": [
    "from pyscfad import scf\n",
    "def hf_energy(mol):\n",
    "    mf = scf.RHF(mol)\n",
    "    ehf = mf.kernel()\n",
    "    return ehf"
   ]
  },
  {
   "cell_type": "markdown",
   "id": "6fd07041-f19f-4fe9-b85d-368e18ea619b",
   "metadata": {},
   "source": [
    "### 3. Compute the gradient\n",
    "\n",
    "We use jax as the backend to trace the computational graph and perform the gradient calculation. See e.g., [jax.value_and_grad](https://jax.readthedocs.io/en/latest/_autosummary/jax.value_and_grad.html)."
   ]
  },
  {
   "cell_type": "code",
   "execution_count": 3,
   "id": "faf96789-e9b5-4acb-bbfd-10df74ed167d",
   "metadata": {},
   "outputs": [
    {
     "name": "stdout",
     "output_type": "stream",
     "text": [
      "RHF energy (in Eh): -1.126755317196931\n"
     ]
    }
   ],
   "source": [
    "import jax\n",
    "ehf, grad = jax.value_and_grad(hf_energy)(mol)\n",
    "print(f'RHF energy (in Eh): {ehf}')"
   ]
  },
  {
   "cell_type": "markdown",
   "id": "a80ea9ae-6b3d-4827-ac28-5382110c5afe",
   "metadata": {},
   "source": [
    "The gradients w.r.t. each parameter are stored as attributes of `grad`, which is also a `Mole` object."
   ]
  },
  {
   "cell_type": "code",
   "execution_count": 4,
   "id": "52ca0f24-6091-4f86-9d5e-9bf8e3d76fae",
   "metadata": {},
   "outputs": [
    {
     "name": "stdout",
     "output_type": "stream",
     "text": [
      "<pyscfad.gto.mole.Mole object at 0x7f34c3471c50>\n"
     ]
    }
   ],
   "source": [
    "print(grad)"
   ]
  },
  {
   "cell_type": "code",
   "execution_count": 5,
   "id": "8192a01c-c314-4cb9-b7c3-e464ce24e7a6",
   "metadata": {},
   "outputs": [
    {
     "name": "stdout",
     "output_type": "stream",
     "text": [
      "Nuclear gradient:\n",
      "[[ 0.          0.         -0.00756136]\n",
      " [ 0.          0.          0.00756136]]\n"
     ]
    }
   ],
   "source": [
    "print(f'Nuclear gradient:\\n{grad.coords}')"
   ]
  },
  {
   "cell_type": "code",
   "execution_count": 6,
   "id": "37471b0c-aacc-4ea5-90df-84e5abeee068",
   "metadata": {},
   "outputs": [
    {
     "name": "stdout",
     "output_type": "stream",
     "text": [
      "Energy gradient w.r.t. basis function exponents:\n",
      "[-8.02030941e-05  1.27267947e-03  1.29202851e-02 -3.61927384e-02]\n"
     ]
    }
   ],
   "source": [
    "print(f'Energy gradient w.r.t. basis function exponents:\\n{grad.exp}')"
   ]
  },
  {
   "cell_type": "code",
   "execution_count": 7,
   "id": "728de45d-ee52-4d18-8c45-2af6fd6588fe",
   "metadata": {
    "scrolled": true
   },
   "outputs": [
    {
     "name": "stdout",
     "output_type": "stream",
     "text": [
      "Energy gradient w.r.t. basis function contraction coefficients:\n",
      "[ 2.36262161e-03  4.68735066e-03 -5.34074485e-03  8.42992343e-13]\n"
     ]
    }
   ],
   "source": [
    "print(f'Energy gradient w.r.t. basis function contraction coefficients:\\n{grad.ctr_coeff}')"
   ]
  },
  {
   "cell_type": "markdown",
   "id": "e923ba9e-d493-4c5d-b2e9-85647034c82f",
   "metadata": {},
   "source": [
    "### 4. Higher order derivatives\n",
    "\n",
    "Higher order derivatives can also be computed, although with much higer memory footprint. Two functions,\n",
    "[jax.jacfwd](https://jax.readthedocs.io/en/latest/_autosummary/jax.jacfwd.html) and\n",
    "[jax.jacrev](https://jax.readthedocs.io/en/latest/_autosummary/jax.jacrev.html),\n",
    "compute the Jacobian with forward- and reverse-mode differentiation, respectively."
   ]
  },
  {
   "cell_type": "code",
   "execution_count": 8,
   "id": "7c0b3aac-96cd-48ad-8d6e-f8cf73d5a794",
   "metadata": {},
   "outputs": [
    {
     "name": "stdout",
     "output_type": "stream",
     "text": [
      "Energy Hessians\n",
      "∂^2E/∂R^2: (2, 3, 2, 3)\n",
      "∂^2E/∂R∂ε: (2, 3, 4)\n",
      "∂^2E/∂R∂c: (2, 3, 4)\n",
      "\n"
     ]
    }
   ],
   "source": [
    "hessian = jax.jacfwd(jax.grad(hf_energy))(mol)\n",
    "print(f'Energy Hessians\\n'\n",
    "      f'∂^2E/∂R^2: {hessian.coords.coords.shape}\\n'\n",
    "      f'∂^2E/∂R∂ε: {hessian.coords.exp.shape}\\n'\n",
    "      f'∂^2E/∂R∂c: {hessian.coords.ctr_coeff.shape}\\n')"
   ]
  },
  {
   "cell_type": "markdown",
   "id": "6f39a623-c8d0-4e93-ab61-a04bad030eb9",
   "metadata": {},
   "source": [
    "<div class=\"alert alert-info\">\n",
    "\n",
    "Note\n",
    "\n",
    "Only first-order derivatives w.r.t. `Mole.exp` and `Mole.ctr_coeff` are available at the moment.\n",
    "\n",
    "</div>"
   ]
  },
  {
   "cell_type": "markdown",
   "id": "006f78f1-7790-4c7c-b802-5b93d51115a0",
   "metadata": {},
   "source": [
    "Third-order derivatives w.r.t. nuclear coordinates can be computed similarly."
   ]
  },
  {
   "cell_type": "code",
   "execution_count": 9,
   "id": "b44770a0-5a6c-495b-9c78-da09c0cd4393",
   "metadata": {},
   "outputs": [
    {
     "name": "stdout",
     "output_type": "stream",
     "text": [
      "∂^3E/∂R^3: (2, 3, 2, 3, 2, 3)\n"
     ]
    }
   ],
   "source": [
    "third_order_deriv = jax.jacfwd(jax.jacfwd(jax.grad(hf_energy)))(mol)\n",
    "print(f'∂^3E/∂R^3: {third_order_deriv.coords.coords.coords.shape}')"
   ]
  }
 ],
 "metadata": {
  "kernelspec": {
   "display_name": "Python 3 (ipykernel)",
   "language": "python",
   "name": "python3"
  },
  "language_info": {
   "codemirror_mode": {
    "name": "ipython",
    "version": 3
   },
   "file_extension": ".py",
   "mimetype": "text/x-python",
   "name": "python",
   "nbconvert_exporter": "python",
   "pygments_lexer": "ipython3",
   "version": "3.11.3"
  }
 },
 "nbformat": 4,
 "nbformat_minor": 5
}

{
 "cells": [
  {
   "cell_type": "markdown",
   "id": "3f08d2fe-9578-4266-a3b6-a097e4b1a115",
   "metadata": {},
   "source": [
    "# Response properties\n",
    "\n",
    "[![Open in Colab](https://colab.research.google.com/assets/colab-badge.svg)](https://colab.research.google.com/github/fishjojo/pyscfad/blob/doc/doc/source/getting_started/tutorial/03_raman_ccsd.ipynb)\n",
    "\n",
    "Most static response properties can be formulated as the derivative of energy/Lagrangian w.r.t the perturbation (e.g., electric or magnetic fields).\n",
    "In order to computed these properties, one usually needs to include both the orbital response and the amplitude response,\n",
    "which can be tedious to implement for complex quantum chemistry methods.\n",
    "On the contrary, automatic differentiation greatly simplifies these calculations,\n",
    "where only the energy function needs to be explicitly implemented.\n",
    "Here, we take the Raman activity as an example to showcase the use of pyscfad in property calculations."
   ]
  },
  {
   "attachments": {},
   "cell_type": "markdown",
   "id": "6901e1f2-0f38-4d1d-b17f-7a493c224fe3",
   "metadata": {},
   "source": [
    "## Raman activity\n",
    "\n",
    "As usual, we first build the `Mole` object.\n",
    "And we don't need derivatives w.r.t the basis function exponents and contraction coefficients,\n",
    "so we turn off the tracing of them."
   ]
  },
  {
   "cell_type": "code",
   "execution_count": 1,
   "id": "98ce1fad-61ce-4942-a64e-b460af63feb6",
   "metadata": {},
   "outputs": [],
   "source": [
    "from pyscfad import gto\n",
    "\n",
    "mol = gto.Mole()\n",
    "mol.atom = '''B  ,  0.   0.   0.\n",
    "              H  ,  0.   0.   2.36328'''\n",
    "mol.basis = 'aug-cc-pvdz'\n",
    "mol.unit = 'B'\n",
    "mol.verbose = 0\n",
    "# do not trace mol.exp and mol.ctr_coeff\n",
    "mol.build(trace_exp=False, trace_ctr_coeff=False)"
   ]
  },
  {
   "cell_type": "markdown",
   "id": "113e3c19-5b6b-4af7-ba26-c0fd24c30f37",
   "metadata": {},
   "source": [
    "Next, we define our energy function. We perform a CCSD calculation with an external electric field applied.\n",
    "pyscfad provides a differentiable implementation of CCSD, which is used here."
   ]
  },
  {
   "cell_type": "code",
   "execution_count": 2,
   "id": "dc6bc103-346d-41cf-b659-1fda158b8564",
   "metadata": {},
   "outputs": [],
   "source": [
    "from jax import numpy as np\n",
    "from pyscfad import scf, cc\n",
    "\n",
    "# CCSD energy\n",
    "def energy(mol):\n",
    "    mf = scf.RHF(mol)\n",
    "    mf.kernel()\n",
    "    mycc = cc.RCCSD(mf)\n",
    "    mycc.kernel()\n",
    "    return mycc.e_tot\n",
    "\n",
    "# CCSD energy with external electric field applied\n",
    "def apply_E(mol, E):\n",
    "    field = np.einsum('x,xij->ij', E, mol.intor('int1e_r'))\n",
    "    mf = scf.RHF(mol)\n",
    "    h1 = mf.get_hcore() + field\n",
    "    mf.get_hcore = lambda *args, **kwargs: h1\n",
    "    mf.kernel()\n",
    "    mycc = cc.RCCSD(mf)\n",
    "    mycc.kernel()\n",
    "    return mycc.e_tot"
   ]
  },
  {
   "cell_type": "markdown",
   "id": "4a712eea-e5a6-43bf-bfdc-d5f730bc8d1e",
   "metadata": {},
   "source": [
    "In order to compute the Raman activity, we need two ingradients,\n",
    "namely, the nuclear Hessian ($\\frac{d^2 e_{tot}}{d\\mathbf{R}^2}$) and\n",
    "the Raman tensor ($\\chi=-\\frac{d^3 e_{tot}}{d\\mathbf{R} d\\mathbf{E}^2}$)."
   ]
  },
  {
   "cell_type": "markdown",
   "id": "f7d5c01c-c571-4ae9-948b-d6084b7bd0c0",
   "metadata": {},
   "source": [
    "```{note} \n",
    "The nuclear Hessian is computed using an energy function without applying the electric field.\n",
    "This is due to the limitation that the 2nd order nuclear derivative of the integral $\\langle a|\\mathbf{r}|b \\rangle$ is not available.\n",
    "```"
   ]
  },
  {
   "cell_type": "code",
   "execution_count": 3,
   "id": "853d5168-858a-4b73-aeba-c692ea3bf345",
   "metadata": {},
   "outputs": [],
   "source": [
    "import jax\n",
    "\n",
    "E0 = np.zeros((3)) # a zero static electric field\n",
    "\n",
    "hess = jax.jacfwd(jax.grad(energy))(mol).coords.coords\n",
    "chi = -jax.jacfwd(jax.jacfwd(jax.grad(apply_E, 1), 1), 0)(mol, E0).coords"
   ]
  },
  {
   "cell_type": "markdown",
   "id": "0c25453a-2883-4819-9c8d-12945d7262f9",
   "metadata": {},
   "source": [
    "Finally, we compute the Raman activity and the depolarization ration with the `harmonic_analysis` function."
   ]
  },
  {
   "cell_type": "code",
   "execution_count": 4,
   "id": "78051219-9cef-4ec7-bd8b-d7f3902a7d27",
   "metadata": {},
   "outputs": [
    {
     "name": "stdout",
     "output_type": "stream",
     "text": [
      "Vibrational frequency in cm^-1:\n",
      "[2338.85778724]\n",
      "Raman activity in A^4/amu:\n",
      "[215.95213461]\n",
      "Depolarization ration:\n",
      "[0.55576992]\n"
     ]
    }
   ],
   "source": [
    "from pyscfad.prop.thermo import vib\n",
    "\n",
    "vibration, _, raman = vib.harmonic_analysis(mol, hess, raman_tensor=chi)\n",
    "print(\"Vibrational frequency in cm^-1:\")\n",
    "print(vibration['freq_wavenumber'])\n",
    "print('Raman activity in A^4/amu:')\n",
    "print(raman['activity'])\n",
    "print('Depolarization ration:')\n",
    "print(raman['depolar_ratio'])"
   ]
  }
 ],
 "metadata": {
  "jupytext": {
   "formats": "ipynb,md:myst"
  },
  "kernelspec": {
   "display_name": "Python 3 (ipykernel)",
   "language": "python",
   "name": "python3"
  },
  "language_info": {
   "codemirror_mode": {
    "name": "ipython",
    "version": 3
   },
   "file_extension": ".py",
   "mimetype": "text/x-python",
   "name": "python",
   "nbconvert_exporter": "python",
   "pygments_lexer": "ipython3",
   "version": "3.11.3"
  }
 },
 "nbformat": 4,
 "nbformat_minor": 5
}

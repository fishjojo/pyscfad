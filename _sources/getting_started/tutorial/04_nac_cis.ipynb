{
 "cells": [
  {
   "cell_type": "markdown",
   "id": "4f2bea63-a3a7-4891-8a7c-15854b2a7f89",
   "metadata": {},
   "source": [
    "# Derivative couplings\n",
    "\n",
    "[![Open in Colab](https://colab.research.google.com/assets/colab-badge.svg)](https://colab.research.google.com/github/fishjojo/pyscfad/blob/doc/doc/source/getting_started/tutorial/04_nac_cis.ipynb)\n",
    "\n",
    "The first-order derivative coupling, defined as $\\langle \\Psi_I |\\nabla_\\mathbf{R} | \\Psi_J\\rangle$,\n",
    "is useful for studying excited state nonadiabatic dynamics.\n",
    "With automatic differentiation, this quantity can be easily computed.\n",
    "The major ingradient that needs to be implemented is the overlap between the two wavefunctions $\\langle \\Psi_I | \\Psi_J\\rangle$.\n",
    "In the following, we give an example of the CIS method."
   ]
  },
  {
   "cell_type": "markdown",
   "id": "d9ad0167-5318-450e-9a92-edb9da5e9a16",
   "metadata": {},
   "source": [
    "## CIS derivative couplings\n",
    "\n",
    "First, we need to compute the unperturbed bra wavefunction $\\langle \\Psi_I |$."
   ]
  },
  {
   "cell_type": "code",
   "execution_count": 1,
   "id": "7b489735-26c9-489e-b688-36fa58bb7428",
   "metadata": {},
   "outputs": [],
   "source": [
    "import numpy\n",
    "import jax\n",
    "from pyscfad import gto, scf\n",
    "from pyscfad.tdscf.rhf import CIS, cis_ovlp\n",
    "\n",
    "mol = gto.Mole()\n",
    "mol.atom = 'H 0 0 0; H 0 0 1.1'\n",
    "mol.basis = 'cc-pvdz'\n",
    "mol.verbose = 0\n",
    "mol.build(trace_exp=False, trace_ctr_coeff=False)\n",
    "\n",
    "# HF and CIS calculations\n",
    "mf = scf.RHF(mol)\n",
    "mf.kernel()\n",
    "mytd = CIS(mf)\n",
    "mytd.nstates = 4\n",
    "e, x = mytd.kernel()\n",
    "\n",
    "# CI coefficients of state I\n",
    "stateI = 0 # the first excited state\n",
    "xi = x[stateI][0] * numpy.sqrt(2.)"
   ]
  },
  {
   "cell_type": "markdown",
   "id": "afc52f0f-2996-467a-8e9f-dbe6d90e8abe",
   "metadata": {},
   "source": [
    "Next, we define the function to compute the overlap.\n",
    "Note that the same CIS calculation is performed to trace the perturbation to the ket wavefunction $|\\Psi_J\\rangle$.\n",
    "In addition, the variables corresponding to the unperturbed state is closed over."
   ]
  },
  {
   "cell_type": "code",
   "execution_count": 2,
   "id": "b7644066-655d-4002-8cdd-e78133273865",
   "metadata": {},
   "outputs": [],
   "source": [
    "def ovlp(mol1):\n",
    "    mf1 = scf.RHF(mol1)\n",
    "    mf1.kernel()\n",
    "    mytd1 = CIS(mf1)\n",
    "    mytd1.nstates = 4\n",
    "    _, x1 = mytd1.kernel()\n",
    "    \n",
    "    # CI coefficients of state J\n",
    "    stateJ = 2 # the third excited state\n",
    "    xj = x1[stateJ][0] * numpy.sqrt(2.)\n",
    "    \n",
    "    # CIS wavefunction overlap\n",
    "    nmo = mf1.mo_coeff.shape[-1]\n",
    "    nocc = mol1.nelectron // 2\n",
    "    s = cis_ovlp(mol, mol1, mf.mo_coeff, mf1.mo_coeff,\n",
    "                 nocc, nocc, nmo, nmo, xi, xj)\n",
    "    return s"
   ]
  },
  {
   "cell_type": "markdown",
   "id": "6c3e3b51-047c-4488-bf40-2829194dc230",
   "metadata": {},
   "source": [
    "Finally, the derivative coupling is computed by differentiating the overlap function."
   ]
  },
  {
   "cell_type": "code",
   "execution_count": 3,
   "id": "44e4f6cf-1687-449a-97e4-fcb21435e5ef",
   "metadata": {},
   "outputs": [
    {
     "name": "stdout",
     "output_type": "stream",
     "text": [
      "CIS derivative coupling:\n",
      "[[ 9.04113360e-18 -1.83652136e-16 -7.95967357e-02]\n",
      " [-2.67656789e-17  5.55903294e-17  7.95967357e-02]]\n"
     ]
    }
   ],
   "source": [
    "# Only the ket state is differentiated\n",
    "mol1 = mol.copy()\n",
    "nac = jax.grad(ovlp)(mol1).coords\n",
    "print(f\"CIS derivative coupling:\\n{nac}\")"
   ]
  }
 ],
 "metadata": {
  "jupytext": {
   "formats": "ipynb,md:myst"
  },
  "kernelspec": {
   "display_name": "Python 3 (ipykernel)",
   "language": "python",
   "name": "python3"
  },
  "language_info": {
   "codemirror_mode": {
    "name": "ipython",
    "version": 3
   },
   "file_extension": ".py",
   "mimetype": "text/x-python",
   "name": "python",
   "nbconvert_exporter": "python",
   "pygments_lexer": "ipython3",
   "version": "3.11.3"
  }
 },
 "nbformat": 4,
 "nbformat_minor": 5
}
